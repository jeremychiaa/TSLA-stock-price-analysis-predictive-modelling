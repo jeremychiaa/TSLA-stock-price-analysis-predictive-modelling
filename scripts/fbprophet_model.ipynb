{
 "metadata": {
  "language_info": {
   "codemirror_mode": {
    "name": "ipython",
    "version": 3
   },
   "file_extension": ".py",
   "mimetype": "text/x-python",
   "name": "python",
   "nbconvert_exporter": "python",
   "pygments_lexer": "ipython3",
   "version": "3.6.12-final"
  },
  "orig_nbformat": 2,
  "kernelspec": {
   "name": "python3",
   "display_name": "Python 3",
   "language": "python"
  }
 },
 "nbformat": 4,
 "nbformat_minor": 2,
 "cells": [
  {
   "cell_type": "code",
   "execution_count": 6,
   "metadata": {},
   "outputs": [],
   "source": [
    "# Python SQL toolkit and Object Relational Mapper\n",
    "import sqlalchemy\n",
    "from sqlalchemy.ext.automap import automap_base\n",
    "from sqlalchemy.orm import Session\n",
    "from sqlalchemy import create_engine, inspect, func"
   ]
  },
  {
   "cell_type": "code",
   "execution_count": 7,
   "metadata": {},
   "outputs": [],
   "source": [
    "# reflect an existing database into a new model\n",
    "Base = automap_base()"
   ]
  },
  {
   "cell_type": "code",
   "execution_count": 8,
   "metadata": {},
   "outputs": [],
   "source": [
    "engine = create_engine(\"sqlite:///../sqlite_db/stock_market_sqlite.db\")"
   ]
  },
  {
   "cell_type": "code",
   "execution_count": 9,
   "metadata": {},
   "outputs": [],
   "source": [
    "# reflect the tables\n",
    "Base.prepare(engine, reflect=True)"
   ]
  },
  {
   "cell_type": "code",
   "execution_count": 10,
   "metadata": {},
   "outputs": [
    {
     "output_type": "execute_result",
     "data": {
      "text/plain": [
       "['GME', 'MSFT', 'TSLA']"
      ]
     },
     "metadata": {},
     "execution_count": 10
    }
   ],
   "source": [
    "bases = Base.classes.keys()\n",
    "bases"
   ]
  },
  {
   "cell_type": "code",
   "execution_count": 11,
   "metadata": {},
   "outputs": [],
   "source": [
    "# Save references to each table\n",
    "tesla = Base.classes.TSLA\n",
    "microsoft = Base.classes.MSFT\n",
    "gamestop = Base.classes.GME"
   ]
  },
  {
   "cell_type": "code",
   "execution_count": 12,
   "metadata": {},
   "outputs": [
    {
     "output_type": "execute_result",
     "data": {
      "text/plain": [
       "sqlalchemy.ext.automap.TSLA"
      ]
     },
     "metadata": {},
     "execution_count": 12
    }
   ],
   "source": [
    "tesla"
   ]
  },
  {
   "cell_type": "code",
   "execution_count": 13,
   "metadata": {},
   "outputs": [],
   "source": [
    "# Create session (link) from Python to the DB\n",
    "session = Session(engine)"
   ]
  },
  {
   "cell_type": "code",
   "execution_count": 14,
   "metadata": {},
   "outputs": [
    {
     "output_type": "stream",
     "name": "stdout",
     "text": [
      "index BIGINT\nDate DATETIME\nOpen FLOAT\nHigh FLOAT\nLow FLOAT\nClose FLOAT\nAdj Close FLOAT\nVolume BIGINT\nindex BIGINT\nDate DATETIME\nOpen FLOAT\nHigh FLOAT\nLow FLOAT\nClose FLOAT\nAdj Close FLOAT\nVolume BIGINT\nindex BIGINT\nDate DATETIME\nOpen FLOAT\nHigh FLOAT\nLow FLOAT\nClose FLOAT\nAdj Close FLOAT\nVolume BIGINT\n"
     ]
    }
   ],
   "source": [
    "# Inspect column names and types for TSLA table\n",
    "inspector = inspect(engine)\n",
    "for base in bases:\n",
    "    columns = inspector.get_columns(base)\n",
    "    for column in columns:\n",
    "        print(column[\"name\"], column[\"type\"])"
   ]
  },
  {
   "cell_type": "code",
   "execution_count": 15,
   "metadata": {},
   "outputs": [],
   "source": [
    "import numpy as np\n",
    "import pandas as pd\n",
    "import matplotlib.pyplot as plt"
   ]
  },
  {
   "cell_type": "code",
   "execution_count": 17,
   "metadata": {},
   "outputs": [],
   "source": [
    "# Perform a query to retrieve tesla data\n",
    "tesla_results = session.query(tesla.Date, tesla.Close).all()\n",
    "tesla_df = pd.DataFrame(tesla_results, columns=[\"Date\", \"Close\"])"
   ]
  },
  {
   "cell_type": "code",
   "execution_count": 18,
   "metadata": {},
   "outputs": [
    {
     "output_type": "execute_result",
     "data": {
      "text/plain": [
       "           Date       Close\n",
       "0    2015-12-31   48.001999\n",
       "1    2016-01-04   44.681999\n",
       "2    2016-01-05   44.686001\n",
       "3    2016-01-06   43.807999\n",
       "4    2016-01-07   43.130001\n",
       "...         ...         ...\n",
       "1279 2021-02-01  839.809998\n",
       "1280 2021-02-02  872.789978\n",
       "1281 2021-02-03  854.690002\n",
       "1282 2021-02-04  849.989990\n",
       "1283 2021-02-05  852.229980\n",
       "\n",
       "[1284 rows x 2 columns]"
      ],
      "text/html": "<div>\n<style scoped>\n    .dataframe tbody tr th:only-of-type {\n        vertical-align: middle;\n    }\n\n    .dataframe tbody tr th {\n        vertical-align: top;\n    }\n\n    .dataframe thead th {\n        text-align: right;\n    }\n</style>\n<table border=\"1\" class=\"dataframe\">\n  <thead>\n    <tr style=\"text-align: right;\">\n      <th></th>\n      <th>Date</th>\n      <th>Close</th>\n    </tr>\n  </thead>\n  <tbody>\n    <tr>\n      <th>0</th>\n      <td>2015-12-31</td>\n      <td>48.001999</td>\n    </tr>\n    <tr>\n      <th>1</th>\n      <td>2016-01-04</td>\n      <td>44.681999</td>\n    </tr>\n    <tr>\n      <th>2</th>\n      <td>2016-01-05</td>\n      <td>44.686001</td>\n    </tr>\n    <tr>\n      <th>3</th>\n      <td>2016-01-06</td>\n      <td>43.807999</td>\n    </tr>\n    <tr>\n      <th>4</th>\n      <td>2016-01-07</td>\n      <td>43.130001</td>\n    </tr>\n    <tr>\n      <th>...</th>\n      <td>...</td>\n      <td>...</td>\n    </tr>\n    <tr>\n      <th>1279</th>\n      <td>2021-02-01</td>\n      <td>839.809998</td>\n    </tr>\n    <tr>\n      <th>1280</th>\n      <td>2021-02-02</td>\n      <td>872.789978</td>\n    </tr>\n    <tr>\n      <th>1281</th>\n      <td>2021-02-03</td>\n      <td>854.690002</td>\n    </tr>\n    <tr>\n      <th>1282</th>\n      <td>2021-02-04</td>\n      <td>849.989990</td>\n    </tr>\n    <tr>\n      <th>1283</th>\n      <td>2021-02-05</td>\n      <td>852.229980</td>\n    </tr>\n  </tbody>\n</table>\n<p>1284 rows × 2 columns</p>\n</div>"
     },
     "metadata": {},
     "execution_count": 18
    }
   ],
   "source": [
    "tesla_df"
   ]
  },
  {
   "cell_type": "code",
   "execution_count": 19,
   "metadata": {},
   "outputs": [
    {
     "output_type": "execute_result",
     "data": {
      "text/plain": [
       "             Close\n",
       "count  1284.000000\n",
       "mean    116.432522\n",
       "std     155.598676\n",
       "min      28.733999\n",
       "25%      47.733500\n",
       "50%      62.021999\n",
       "75%      72.493000\n",
       "max     883.090027"
      ],
      "text/html": "<div>\n<style scoped>\n    .dataframe tbody tr th:only-of-type {\n        vertical-align: middle;\n    }\n\n    .dataframe tbody tr th {\n        vertical-align: top;\n    }\n\n    .dataframe thead th {\n        text-align: right;\n    }\n</style>\n<table border=\"1\" class=\"dataframe\">\n  <thead>\n    <tr style=\"text-align: right;\">\n      <th></th>\n      <th>Close</th>\n    </tr>\n  </thead>\n  <tbody>\n    <tr>\n      <th>count</th>\n      <td>1284.000000</td>\n    </tr>\n    <tr>\n      <th>mean</th>\n      <td>116.432522</td>\n    </tr>\n    <tr>\n      <th>std</th>\n      <td>155.598676</td>\n    </tr>\n    <tr>\n      <th>min</th>\n      <td>28.733999</td>\n    </tr>\n    <tr>\n      <th>25%</th>\n      <td>47.733500</td>\n    </tr>\n    <tr>\n      <th>50%</th>\n      <td>62.021999</td>\n    </tr>\n    <tr>\n      <th>75%</th>\n      <td>72.493000</td>\n    </tr>\n    <tr>\n      <th>max</th>\n      <td>883.090027</td>\n    </tr>\n  </tbody>\n</table>\n</div>"
     },
     "metadata": {},
     "execution_count": 19
    }
   ],
   "source": [
    "tesla_df.describe()"
   ]
  },
  {
   "source": [
    "## Modelling"
   ],
   "cell_type": "markdown",
   "metadata": {}
  },
  {
   "cell_type": "code",
   "execution_count": 22,
   "metadata": {},
   "outputs": [],
   "source": [
    "# Rename features as these names are needed for model fitting\n",
    "tesla_df = tesla_df.rename(columns={\"Date\":\"ds\", \"Close\":\"y\"})"
   ]
  },
  {
   "cell_type": "code",
   "execution_count": 23,
   "metadata": {},
   "outputs": [
    {
     "output_type": "execute_result",
     "data": {
      "text/plain": [
       "             ds           y\n",
       "0    2015-12-31   48.001999\n",
       "1    2016-01-04   44.681999\n",
       "2    2016-01-05   44.686001\n",
       "3    2016-01-06   43.807999\n",
       "4    2016-01-07   43.130001\n",
       "...         ...         ...\n",
       "1279 2021-02-01  839.809998\n",
       "1280 2021-02-02  872.789978\n",
       "1281 2021-02-03  854.690002\n",
       "1282 2021-02-04  849.989990\n",
       "1283 2021-02-05  852.229980\n",
       "\n",
       "[1284 rows x 2 columns]"
      ],
      "text/html": "<div>\n<style scoped>\n    .dataframe tbody tr th:only-of-type {\n        vertical-align: middle;\n    }\n\n    .dataframe tbody tr th {\n        vertical-align: top;\n    }\n\n    .dataframe thead th {\n        text-align: right;\n    }\n</style>\n<table border=\"1\" class=\"dataframe\">\n  <thead>\n    <tr style=\"text-align: right;\">\n      <th></th>\n      <th>ds</th>\n      <th>y</th>\n    </tr>\n  </thead>\n  <tbody>\n    <tr>\n      <th>0</th>\n      <td>2015-12-31</td>\n      <td>48.001999</td>\n    </tr>\n    <tr>\n      <th>1</th>\n      <td>2016-01-04</td>\n      <td>44.681999</td>\n    </tr>\n    <tr>\n      <th>2</th>\n      <td>2016-01-05</td>\n      <td>44.686001</td>\n    </tr>\n    <tr>\n      <th>3</th>\n      <td>2016-01-06</td>\n      <td>43.807999</td>\n    </tr>\n    <tr>\n      <th>4</th>\n      <td>2016-01-07</td>\n      <td>43.130001</td>\n    </tr>\n    <tr>\n      <th>...</th>\n      <td>...</td>\n      <td>...</td>\n    </tr>\n    <tr>\n      <th>1279</th>\n      <td>2021-02-01</td>\n      <td>839.809998</td>\n    </tr>\n    <tr>\n      <th>1280</th>\n      <td>2021-02-02</td>\n      <td>872.789978</td>\n    </tr>\n    <tr>\n      <th>1281</th>\n      <td>2021-02-03</td>\n      <td>854.690002</td>\n    </tr>\n    <tr>\n      <th>1282</th>\n      <td>2021-02-04</td>\n      <td>849.989990</td>\n    </tr>\n    <tr>\n      <th>1283</th>\n      <td>2021-02-05</td>\n      <td>852.229980</td>\n    </tr>\n  </tbody>\n</table>\n<p>1284 rows × 2 columns</p>\n</div>"
     },
     "metadata": {},
     "execution_count": 23
    }
   ],
   "source": [
    "tesla_df"
   ]
  },
  {
   "cell_type": "code",
   "execution_count": null,
   "metadata": {},
   "outputs": [],
   "source": []
  }
 ]
}