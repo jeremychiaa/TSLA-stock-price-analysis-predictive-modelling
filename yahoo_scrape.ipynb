{
 "metadata": {
  "language_info": {
   "codemirror_mode": {
    "name": "ipython",
    "version": 3
   },
   "file_extension": ".py",
   "mimetype": "text/x-python",
   "name": "python",
   "nbconvert_exporter": "python",
   "pygments_lexer": "ipython3",
   "version": "3.6.12-final"
  },
  "orig_nbformat": 2,
  "kernelspec": {
   "name": "python3",
   "display_name": "Python 3.6.12 64-bit ('PythonData': conda)",
   "metadata": {
    "interpreter": {
     "hash": "4511098e18df60c01b7d3969427a2c87e82d8a62973ae543cdaefaf6447f8e43"
    }
   }
  }
 },
 "nbformat": 4,
 "nbformat_minor": 2,
 "cells": [
  {
   "cell_type": "code",
   "execution_count": 1,
   "metadata": {},
   "outputs": [],
   "source": [
    "# Import dependencies\n",
    "from selenium import webdriver\n",
    "from bs4 import BeautifulSoup\n",
    "import pandas as pd\n",
    "import time, requests, os"
   ]
  },
  {
   "cell_type": "code",
   "execution_count": 2,
   "metadata": {},
   "outputs": [],
   "source": [
    "# Yahoo Finance BaseURL\n",
    "url = \"https://finance.yahoo.com/\"\n",
    "\n",
    "# List of companies tickers\n",
    "companies = [\"TSLA\", \"MSFT\", \"GME\"]"
   ]
  },
  {
   "cell_type": "code",
   "execution_count": 3,
   "metadata": {},
   "outputs": [],
   "source": [
    "# Start chrome webdriver\n",
    "driver = webdriver.Chrome(executable_path = r\"C:\\temp\\chromedriver.exe\")\n",
    "\n",
    "# Hit url and wait for 2 seconds\n",
    "driver.get(url)\n",
    "time.sleep(2)"
   ]
  },
  {
   "cell_type": "code",
   "execution_count": 4,
   "metadata": {},
   "outputs": [],
   "source": [
    "# Enter name of company in searchbox\n",
    "driver.find_element_by_xpath(\"//input[@placeholder = 'Search for news, symbols or companies']\").send_keys(companies[0])\n",
    "time.sleep(2)\n",
    "\n",
    "# Click on Search icon\n",
    "driver.find_element_by_xpath(\"//button[@id= 'header-desktop-search-button']\").click()\n",
    "time.sleep(2)"
   ]
  },
  {
   "cell_type": "code",
   "execution_count": 5,
   "metadata": {},
   "outputs": [],
   "source": [
    "# Driver clicks on Historical Data tab\n",
    "driver.find_element_by_xpath(\"//span[text() = 'Historical Data']\").click()\n",
    "time.sleep(2)"
   ]
  },
  {
   "cell_type": "code",
   "execution_count": 6,
   "metadata": {},
   "outputs": [],
   "source": [
    "# Click dropdown\n",
    "driver.find_element_by_css_selector(\"[data-icon=CoreArrowDown]\").click()\n",
    "time.sleep(2)"
   ]
  },
  {
   "cell_type": "code",
   "execution_count": 7,
   "metadata": {},
   "outputs": [],
   "source": [
    "# Click 5 Years data\n",
    "driver.find_element_by_css_selector(\"[data-value='5_Y']\").click()\n",
    "time.sleep(2)"
   ]
  },
  {
   "cell_type": "code",
   "execution_count": 8,
   "metadata": {},
   "outputs": [],
   "source": [
    "# Click \"Apply\" button\n",
    "click_apply = driver.find_element_by_xpath(\"//span[text()='Apply']\").click()\n",
    "time.sleep(2)"
   ]
  },
  {
   "cell_type": "code",
   "execution_count": 9,
   "metadata": {},
   "outputs": [],
   "source": [
    "# Webpage uses dynamic loading of data where data loads upon scrolling down\n",
    "# Driver scrolls down by 5000 px for 13 times to load full table\n",
    "for i in range(0,13):\n",
    " driver.execute_script(\"window.scrollBy(0,5000)\")\n",
    " time.sleep(2)"
   ]
  },
  {
   "cell_type": "code",
   "execution_count": 10,
   "metadata": {},
   "outputs": [],
   "source": [
    "# Fetch webpage and store in a variable\n",
    "webpage = driver.page_source\n",
    "# Print the fetched webpage\n",
    "#print(webpage)"
   ]
  },
  {
   "cell_type": "code",
   "execution_count": 11,
   "metadata": {},
   "outputs": [],
   "source": [
    "# Parse web page fetched from driver using Beautiful Soup\n",
    "soup = BeautifulSoup(driver.page_source, \"html.parser\")"
   ]
  },
  {
   "cell_type": "code",
   "execution_count": 12,
   "metadata": {},
   "outputs": [],
   "source": [
    "# Table is searched using class and stored in another variable\n",
    "table = soup.find(\"table\", class_=\"W(100%) M(0)\")"
   ]
  },
  {
   "cell_type": "code",
   "execution_count": 13,
   "metadata": {},
   "outputs": [],
   "source": [
    "# List of all the rows of stock data\n",
    "rows = table.find_all(\"tr\", class_=\"BdT Bdc($seperatorColor) Ta(end) Fz(s) Whs(nw)\")"
   ]
  },
  {
   "cell_type": "code",
   "execution_count": 14,
   "metadata": {},
   "outputs": [],
   "source": [
    "# Create empty list to store data\n",
    "extracted_data = []\n",
    "\n",
    "# Loop through each row of the table\n",
    "for i in range(0, len(rows)):\n",
    "    try:\n",
    "        # Create empty dictionary to store present data in each row\n",
    "        # Date, Open, High, Low, Close, Adj Close, Volume\n",
    "        row_dict = {}\n",
    "        # Extract all columns of the row and store in variable\n",
    "        values = rows[i].find_all('td')\n",
    "\n",
    "        # Values are extracted and stored in dictionary\n",
    "        if len(values) == 7:\n",
    "            row_dict[\"Date\"] = values[0].find('span').text.replace(',', '')\n",
    "            row_dict[\"Open\"] = values[1].find('span').text.replace(',', '')\n",
    "            row_dict[\"High\"] = values[2].find('span').text.replace(',', '')\n",
    "            row_dict[\"Low\"] = values[3].find('span').text.replace(',', '')\n",
    "            row_dict[\"Close\"] = values[4].find('span').text.replace(',', '')\n",
    "            row_dict[\"Adj Close\"] = values[5].find('span').text.replace(',', '')\n",
    "            row_dict[\"Volume\"] = values[6].find('span').text.replace(',', '')\n",
    "\n",
    "            # Append into list\n",
    "            extracted_data.append(row_dict)\n",
    "    \n",
    "    except:\n",
    "        # Check exception\n",
    "        print(\"Row Number: \" + str(i))\n",
    "\n",
    "    finally:\n",
    "        i = i + 1"
   ]
  },
  {
   "cell_type": "code",
   "execution_count": 15,
   "metadata": {},
   "outputs": [
    {
     "output_type": "execute_result",
     "data": {
      "text/plain": [
       "{'Date': 'Feb 08 2016',\n",
       " 'Open': '31.42',\n",
       " 'High': '31.43',\n",
       " 'Low': '29.20',\n",
       " 'Close': '29.60',\n",
       " 'Adj Close': '29.60',\n",
       " 'Volume': '46565000'}"
      ]
     },
     "metadata": {},
     "execution_count": 15
    }
   ],
   "source": [
    "row_dict"
   ]
  },
  {
   "cell_type": "code",
   "execution_count": 16,
   "metadata": {},
   "outputs": [
    {
     "output_type": "execute_result",
     "data": {
      "text/plain": [
       "             Date    Open    High     Low   Close Adj Close    Volume\n",
       "0     Feb 05 2021  845.00  864.77  838.97  852.23    852.23  18524800\n",
       "1     Feb 04 2021  855.00  856.50  833.42  849.99    849.99  15812700\n",
       "2     Feb 03 2021  877.02  878.08  853.06  854.69    854.69  18343500\n",
       "3     Feb 02 2021  844.68  880.50  842.20  872.79    872.79  24346200\n",
       "4     Feb 01 2021  814.29  842.00  795.56  839.81    839.81  25391400\n",
       "...           ...     ...     ...     ...     ...       ...       ...\n",
       "1254  Feb 12 2016   31.00   31.40   28.74   30.21     30.21  36179000\n",
       "1255  Feb 11 2016   30.40   32.65   29.40   30.09     30.09  71262000\n",
       "1256  Feb 10 2016   30.10   30.99   28.35   28.73     28.73  52032500\n",
       "1257  Feb 09 2016   28.46   31.96   28.21   29.65     29.65  43258000\n",
       "1258  Feb 08 2016   31.42   31.43   29.20   29.60     29.60  46565000\n",
       "\n",
       "[1259 rows x 7 columns]"
      ],
      "text/html": "<div>\n<style scoped>\n    .dataframe tbody tr th:only-of-type {\n        vertical-align: middle;\n    }\n\n    .dataframe tbody tr th {\n        vertical-align: top;\n    }\n\n    .dataframe thead th {\n        text-align: right;\n    }\n</style>\n<table border=\"1\" class=\"dataframe\">\n  <thead>\n    <tr style=\"text-align: right;\">\n      <th></th>\n      <th>Date</th>\n      <th>Open</th>\n      <th>High</th>\n      <th>Low</th>\n      <th>Close</th>\n      <th>Adj Close</th>\n      <th>Volume</th>\n    </tr>\n  </thead>\n  <tbody>\n    <tr>\n      <th>0</th>\n      <td>Feb 05 2021</td>\n      <td>845.00</td>\n      <td>864.77</td>\n      <td>838.97</td>\n      <td>852.23</td>\n      <td>852.23</td>\n      <td>18524800</td>\n    </tr>\n    <tr>\n      <th>1</th>\n      <td>Feb 04 2021</td>\n      <td>855.00</td>\n      <td>856.50</td>\n      <td>833.42</td>\n      <td>849.99</td>\n      <td>849.99</td>\n      <td>15812700</td>\n    </tr>\n    <tr>\n      <th>2</th>\n      <td>Feb 03 2021</td>\n      <td>877.02</td>\n      <td>878.08</td>\n      <td>853.06</td>\n      <td>854.69</td>\n      <td>854.69</td>\n      <td>18343500</td>\n    </tr>\n    <tr>\n      <th>3</th>\n      <td>Feb 02 2021</td>\n      <td>844.68</td>\n      <td>880.50</td>\n      <td>842.20</td>\n      <td>872.79</td>\n      <td>872.79</td>\n      <td>24346200</td>\n    </tr>\n    <tr>\n      <th>4</th>\n      <td>Feb 01 2021</td>\n      <td>814.29</td>\n      <td>842.00</td>\n      <td>795.56</td>\n      <td>839.81</td>\n      <td>839.81</td>\n      <td>25391400</td>\n    </tr>\n    <tr>\n      <th>...</th>\n      <td>...</td>\n      <td>...</td>\n      <td>...</td>\n      <td>...</td>\n      <td>...</td>\n      <td>...</td>\n      <td>...</td>\n    </tr>\n    <tr>\n      <th>1254</th>\n      <td>Feb 12 2016</td>\n      <td>31.00</td>\n      <td>31.40</td>\n      <td>28.74</td>\n      <td>30.21</td>\n      <td>30.21</td>\n      <td>36179000</td>\n    </tr>\n    <tr>\n      <th>1255</th>\n      <td>Feb 11 2016</td>\n      <td>30.40</td>\n      <td>32.65</td>\n      <td>29.40</td>\n      <td>30.09</td>\n      <td>30.09</td>\n      <td>71262000</td>\n    </tr>\n    <tr>\n      <th>1256</th>\n      <td>Feb 10 2016</td>\n      <td>30.10</td>\n      <td>30.99</td>\n      <td>28.35</td>\n      <td>28.73</td>\n      <td>28.73</td>\n      <td>52032500</td>\n    </tr>\n    <tr>\n      <th>1257</th>\n      <td>Feb 09 2016</td>\n      <td>28.46</td>\n      <td>31.96</td>\n      <td>28.21</td>\n      <td>29.65</td>\n      <td>29.65</td>\n      <td>43258000</td>\n    </tr>\n    <tr>\n      <th>1258</th>\n      <td>Feb 08 2016</td>\n      <td>31.42</td>\n      <td>31.43</td>\n      <td>29.20</td>\n      <td>29.60</td>\n      <td>29.60</td>\n      <td>46565000</td>\n    </tr>\n  </tbody>\n</table>\n<p>1259 rows × 7 columns</p>\n</div>"
     },
     "metadata": {},
     "execution_count": 16
    }
   ],
   "source": [
    "# Convert list of dictionaries to a dataframe\n",
    "extracted_data_df = pd.DataFrame(extracted_data)\n",
    "extracted_data_df"
   ]
  },
  {
   "cell_type": "code",
   "execution_count": 18,
   "metadata": {},
   "outputs": [
    {
     "output_type": "execute_result",
     "data": {
      "text/plain": [
       "Date         Feb 05 2021\n",
       "Open              845.00\n",
       "High              864.77\n",
       "Low               838.97\n",
       "Close             852.23\n",
       "Adj Close         852.23\n",
       "Volume          18524800\n",
       "Name: 0, dtype: object"
      ]
     },
     "metadata": {},
     "execution_count": 18
    }
   ],
   "source": [
    "extracted_data_df.iloc[0]"
   ]
  },
  {
   "cell_type": "code",
   "execution_count": 21,
   "metadata": {},
   "outputs": [
    {
     "output_type": "execute_result",
     "data": {
      "text/plain": [
       "Date         Feb 08 2016\n",
       "Open               31.42\n",
       "High               31.43\n",
       "Low                29.20\n",
       "Close              29.60\n",
       "Adj Close          29.60\n",
       "Volume          46565000\n",
       "Name: 1258, dtype: object"
      ]
     },
     "metadata": {},
     "execution_count": 21
    }
   ],
   "source": [
    "extracted_data_df.iloc[1258]"
   ]
  },
  {
   "cell_type": "code",
   "execution_count": null,
   "metadata": {},
   "outputs": [],
   "source": []
  }
 ]
}