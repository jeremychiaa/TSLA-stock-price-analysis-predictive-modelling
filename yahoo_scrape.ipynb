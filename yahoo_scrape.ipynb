{
 "metadata": {
  "language_info": {
   "codemirror_mode": {
    "name": "ipython",
    "version": 3
   },
   "file_extension": ".py",
   "mimetype": "text/x-python",
   "name": "python",
   "nbconvert_exporter": "python",
   "pygments_lexer": "ipython3",
   "version": "3.6.12-final"
  },
  "orig_nbformat": 2,
  "kernelspec": {
   "name": "python3",
   "display_name": "Python 3.6.12 64-bit ('PythonData': conda)",
   "metadata": {
    "interpreter": {
     "hash": "4511098e18df60c01b7d3969427a2c87e82d8a62973ae543cdaefaf6447f8e43"
    }
   }
  }
 },
 "nbformat": 4,
 "nbformat_minor": 2,
 "cells": [
  {
   "cell_type": "code",
   "execution_count": 23,
   "metadata": {},
   "outputs": [],
   "source": [
    "# Import dependencies\n",
    "from selenium import webdriver\n",
    "from bs4 import BeautifulSoup\n",
    "import pandas as pd\n",
    "import time, requests, os"
   ]
  },
  {
   "cell_type": "code",
   "execution_count": 2,
   "metadata": {},
   "outputs": [],
   "source": [
    "# Yahoo Finance BaseURL\n",
    "url = \"https://finance.yahoo.com/\"\n",
    "\n",
    "# List of companies\n",
    "companies = [\"Tesla\", \"GameStop\", \"Microsoft\"]"
   ]
  },
  {
   "cell_type": "code",
   "execution_count": 4,
   "metadata": {},
   "outputs": [],
   "source": [
    "# Start chrome webdriver\n",
    "driver = webdriver.Chrome(executable_path = r\"C:\\temp\\chromedriver.exe\")\n",
    "\n",
    "# Hit url and wait for 2 seconds\n",
    "driver.get(url)\n",
    "time.sleep(2)"
   ]
  },
  {
   "cell_type": "code",
   "execution_count": 6,
   "metadata": {},
   "outputs": [],
   "source": [
    "# Enter name of company in searchbox, and wait for 2 seconds\n",
    "driver.find_element_by_xpath(\"//input[@placeholder = 'Search for news, symbols or companies']\").send_keys(\"Tesla\")\n",
    "time.sleep(2)\n",
    "\n",
    "# Click on Search icon and wait for 2 seconds\n",
    "driver.find_element_by_xpath(\"//button[@id= 'header-desktop-search-button']\").click()\n",
    "time.sleep(2)"
   ]
  },
  {
   "cell_type": "code",
   "execution_count": 7,
   "metadata": {},
   "outputs": [],
   "source": [
    "# Driver clicks on Historical Data tab and sleeps for 2 seconds\n",
    "driver.find_element_by_xpath(\"//span[text() = 'Historical Data']\").click()\n",
    "time.sleep(2)"
   ]
  },
  {
   "cell_type": "code",
   "execution_count": 8,
   "metadata": {},
   "outputs": [],
   "source": [
    "# Webpage uses dynamic loading of data where data loads upon scrolling down\n",
    "# Driver scrolls down three times to load full table\n",
    "for i in range(0,3):\n",
    " driver.execute_script(\"window.scrollBy(0,5000)\")\n",
    " time.sleep(2)"
   ]
  },
  {
   "cell_type": "code",
   "execution_count": 29,
   "metadata": {},
   "outputs": [],
   "source": [
    "# Fetch webpage and store in a variable\n",
    "webpage = driver.page_source\n",
    "# Print the fetched webpage\n",
    "#print(webpage)"
   ]
  },
  {
   "cell_type": "code",
   "execution_count": 12,
   "metadata": {},
   "outputs": [],
   "source": [
    "# Parse web page fetched from driver using Beautiful Soup\n",
    "soup = BeautifulSoup(driver.page_source, 'html.parser')"
   ]
  },
  {
   "cell_type": "code",
   "execution_count": 13,
   "metadata": {},
   "outputs": [],
   "source": [
    "# Table is searched using class and stored in another variable\n",
    "table = soup.find('table', class_='W(100%) M(0)')"
   ]
  },
  {
   "cell_type": "code",
   "execution_count": 14,
   "metadata": {},
   "outputs": [],
   "source": [
    "# List of all the rows of stock data\n",
    "rows = table.find_all('tr', class_='BdT Bdc($seperatorColor) Ta(end) Fz(s) Whs(nw)')"
   ]
  },
  {
   "cell_type": "code",
   "execution_count": 24,
   "metadata": {},
   "outputs": [],
   "source": [
    "# Create empty list to store data\n",
    "extracted_data = []\n",
    "\n",
    "# Loop through each row of the table\n",
    "for i in range(0, len(rows)):\n",
    "    try:\n",
    "        # Create empty dictionary to store present data in each row\n",
    "        # Date, Open, High, Low, Close, Adj Close, Volume\n",
    "        row_dict = {}\n",
    "        # Extract all columns of the row and store in variable\n",
    "        values = rows[i].find_all('td')\n",
    "\n",
    "        # Values are extracted and stored in dictionary\n",
    "        if len(values) == 7:\n",
    "            row_dict[\"Date\"] = values[0].find('span').text.replace(',', '')\n",
    "            row_dict[\"Open\"] = values[1].find('span').text.replace(',', '')\n",
    "            row_dict[\"High\"] = values[2].find('span').text.replace(',', '')\n",
    "            row_dict[\"Low\"] = values[3].find('span').text.replace(',', '')\n",
    "            row_dict[\"Close\"] = values[4].find('span').text.replace(',', '')\n",
    "            row_dict[\"Adj Close\"] = values[5].find('span').text.replace(',', '')\n",
    "            row_dict[\"Volume\"] = values[6].find('span').text.replace(',', '')\n",
    "\n",
    "            # Append into list\n",
    "            extracted_data.append(row_dict)\n",
    "    \n",
    "    except:\n",
    "        # Check exception\n",
    "        print(\"Row Number: \" + str(i))\n",
    "\n",
    "    finally:\n",
    "        i = i + 1"
   ]
  },
  {
   "cell_type": "code",
   "execution_count": 25,
   "metadata": {},
   "outputs": [
    {
     "output_type": "execute_result",
     "data": {
      "text/plain": [
       "{'Date': 'Feb 06 2020',\n",
       " 'Open': '139.98',\n",
       " 'High': '159.17',\n",
       " 'Low': '137.40',\n",
       " 'Close': '149.79',\n",
       " 'Adj Close': '149.79',\n",
       " 'Volume': '199404000'}"
      ]
     },
     "metadata": {},
     "execution_count": 25
    }
   ],
   "source": [
    "row_dict"
   ]
  },
  {
   "cell_type": "code",
   "execution_count": 28,
   "metadata": {},
   "outputs": [
    {
     "output_type": "execute_result",
     "data": {
      "text/plain": [
       "            Date    Open    High     Low   Close Adj Close     Volume\n",
       "0    Feb 05 2021  845.00  864.77  838.97  852.23    852.23   18524800\n",
       "1    Feb 04 2021  855.00  856.50  833.42  849.99    849.99   15812700\n",
       "2    Feb 03 2021  877.02  878.08  853.06  854.69    854.69   18343500\n",
       "3    Feb 02 2021  844.68  880.50  842.20  872.79    872.79   24346200\n",
       "4    Feb 01 2021  814.29  842.00  795.56  839.81    839.81   25391400\n",
       "..           ...     ...     ...     ...     ...       ...        ...\n",
       "248  Feb 12 2020  155.57  157.95  152.67  153.46    153.46   60112500\n",
       "249  Feb 11 2020  153.76  156.70  151.60  154.88    154.88   58487500\n",
       "250  Feb 10 2020  160.00  164.00  150.48  154.26    154.26  123446000\n",
       "251  Feb 07 2020  146.11  153.95  146.00  149.61    149.61   85317500\n",
       "252  Feb 06 2020  139.98  159.17  137.40  149.79    149.79  199404000\n",
       "\n",
       "[253 rows x 7 columns]"
      ],
      "text/html": "<div>\n<style scoped>\n    .dataframe tbody tr th:only-of-type {\n        vertical-align: middle;\n    }\n\n    .dataframe tbody tr th {\n        vertical-align: top;\n    }\n\n    .dataframe thead th {\n        text-align: right;\n    }\n</style>\n<table border=\"1\" class=\"dataframe\">\n  <thead>\n    <tr style=\"text-align: right;\">\n      <th></th>\n      <th>Date</th>\n      <th>Open</th>\n      <th>High</th>\n      <th>Low</th>\n      <th>Close</th>\n      <th>Adj Close</th>\n      <th>Volume</th>\n    </tr>\n  </thead>\n  <tbody>\n    <tr>\n      <th>0</th>\n      <td>Feb 05 2021</td>\n      <td>845.00</td>\n      <td>864.77</td>\n      <td>838.97</td>\n      <td>852.23</td>\n      <td>852.23</td>\n      <td>18524800</td>\n    </tr>\n    <tr>\n      <th>1</th>\n      <td>Feb 04 2021</td>\n      <td>855.00</td>\n      <td>856.50</td>\n      <td>833.42</td>\n      <td>849.99</td>\n      <td>849.99</td>\n      <td>15812700</td>\n    </tr>\n    <tr>\n      <th>2</th>\n      <td>Feb 03 2021</td>\n      <td>877.02</td>\n      <td>878.08</td>\n      <td>853.06</td>\n      <td>854.69</td>\n      <td>854.69</td>\n      <td>18343500</td>\n    </tr>\n    <tr>\n      <th>3</th>\n      <td>Feb 02 2021</td>\n      <td>844.68</td>\n      <td>880.50</td>\n      <td>842.20</td>\n      <td>872.79</td>\n      <td>872.79</td>\n      <td>24346200</td>\n    </tr>\n    <tr>\n      <th>4</th>\n      <td>Feb 01 2021</td>\n      <td>814.29</td>\n      <td>842.00</td>\n      <td>795.56</td>\n      <td>839.81</td>\n      <td>839.81</td>\n      <td>25391400</td>\n    </tr>\n    <tr>\n      <th>...</th>\n      <td>...</td>\n      <td>...</td>\n      <td>...</td>\n      <td>...</td>\n      <td>...</td>\n      <td>...</td>\n      <td>...</td>\n    </tr>\n    <tr>\n      <th>248</th>\n      <td>Feb 12 2020</td>\n      <td>155.57</td>\n      <td>157.95</td>\n      <td>152.67</td>\n      <td>153.46</td>\n      <td>153.46</td>\n      <td>60112500</td>\n    </tr>\n    <tr>\n      <th>249</th>\n      <td>Feb 11 2020</td>\n      <td>153.76</td>\n      <td>156.70</td>\n      <td>151.60</td>\n      <td>154.88</td>\n      <td>154.88</td>\n      <td>58487500</td>\n    </tr>\n    <tr>\n      <th>250</th>\n      <td>Feb 10 2020</td>\n      <td>160.00</td>\n      <td>164.00</td>\n      <td>150.48</td>\n      <td>154.26</td>\n      <td>154.26</td>\n      <td>123446000</td>\n    </tr>\n    <tr>\n      <th>251</th>\n      <td>Feb 07 2020</td>\n      <td>146.11</td>\n      <td>153.95</td>\n      <td>146.00</td>\n      <td>149.61</td>\n      <td>149.61</td>\n      <td>85317500</td>\n    </tr>\n    <tr>\n      <th>252</th>\n      <td>Feb 06 2020</td>\n      <td>139.98</td>\n      <td>159.17</td>\n      <td>137.40</td>\n      <td>149.79</td>\n      <td>149.79</td>\n      <td>199404000</td>\n    </tr>\n  </tbody>\n</table>\n<p>253 rows × 7 columns</p>\n</div>"
     },
     "metadata": {},
     "execution_count": 28
    }
   ],
   "source": [
    "# Convert list of dictionaries to a dataframe\n",
    "extracted_data_df = pd.DataFrame(extracted_data)\n",
    "extracted_data_df"
   ]
  },
  {
   "cell_type": "code",
   "execution_count": null,
   "metadata": {},
   "outputs": [],
   "source": []
  }
 ]
}